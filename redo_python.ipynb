{
 "cells": [
  {
   "cell_type": "code",
   "execution_count": 1,
   "metadata": {},
   "outputs": [],
   "source": [
    "with open('./darwin.txt', 'r') as rfile:\n",
    "    file = [x for x in rfile.read().split('\\n') if x != ''][1:]"
   ]
  },
  {
   "cell_type": "code",
   "execution_count": 2,
   "metadata": {},
   "outputs": [
    {
     "name": "stdout",
     "output_type": "stream",
     "text": [
      "56 paragraphs are there in the chapter\n"
     ]
    }
   ],
   "source": [
    "print(f\"{len(file)} paragraphs are there in the chapter\")"
   ]
  },
  {
   "cell_type": "code",
   "execution_count": 3,
   "metadata": {},
   "outputs": [
    {
     "name": "stdout",
     "output_type": "stream",
     "text": [
      "34th paragraph from the chapter:\n",
      "The fact, as we have seen, that all past and present organic beings can be arranged within a few great classes, in groups subordinate to groups, and with the extinct groups often falling in between the recent groups, is intelligible on the theory of natural selection with its contingencies of extinction and divergence of character. On these same principles we see how it is that the mutual affinities of the forms within each class are so complex and circuitous. We see why certain characters are far more serviceable than others for classification; why adaptive characters, though of paramount importance to the beings, are of hardly any importance in classification; why characters derived from rudimentary parts, though of no service to the beings, are often of high classificatory value; and why embryological characters are often the most valuable of all. The real affinities of all organic beings, in contradistinction to their adaptive resemblances, are due to inheritance or community of descent. The Natural System is a genealogical arrangement, with the acquired grades of difference, marked by the terms, varieties, species, genera, families, etc.; and we have to discover the lines of descent by the most permanent characters, whatever they may be, and of however slight vital importance.\n"
     ]
    }
   ],
   "source": [
    "print(\"34th paragraph from the chapter:\")\n",
    "print(file[33])"
   ]
  },
  {
   "cell_type": "code",
   "execution_count": 4,
   "metadata": {},
   "outputs": [],
   "source": [
    "import string\n",
    "split = []\n",
    "for i in range(len(file)):\n",
    "    for j in string.punctuation:\n",
    "        file[i] = file[i].replace(j, '')\n",
    "for i in file:\n",
    "    for j in i.split():\n",
    "        split.append(j)"
   ]
  },
  {
   "cell_type": "code",
   "execution_count": 5,
   "metadata": {},
   "outputs": [],
   "source": [
    "count_word = {}\n",
    "for i in split:\n",
    "    if i in count_word.keys():\n",
    "        count_word[i] += 1\n",
    "    else:\n",
    "        count_word[i] = 1"
   ]
  },
  {
   "cell_type": "code",
   "execution_count": 6,
   "metadata": {},
   "outputs": [
    {
     "name": "stdout",
     "output_type": "stream",
     "text": [
      "2058 unique words in this vector\n",
      "The most common word are the\n",
      "1071 words are appear 1 time\n",
      "369 words are appear 5 or more times\n"
     ]
    }
   ],
   "source": [
    "print(f\"{len(count_word.keys())} unique words in this vector\")\n",
    "print(f\"The most common word are {max(count_word, key = count_word.get)}\")\n",
    "print(f\"{len([x for x in count_word.keys() if count_word[x] == 1])} words are appear 1 time\")\n",
    "print(f\"{len([x for x in count_word.keys() if count_word[x] >= 5])} words are appear 5 or more times\")"
   ]
  },
  {
   "cell_type": "code",
   "execution_count": 7,
   "metadata": {},
   "outputs": [
    {
     "name": "stdout",
     "output_type": "stream",
     "text": [
      "['interesting', 'a', 'clothed', 'plants', 'kinds', 'singing', 'bushes', 'insects', 'and', 'crawling', 'damp', 'to', 'these', 'forms', 'from', 'and', 'each', 'so', 'manner', 'been', 'laws', 'us', 'taken', 'largest', 'Growth', 'Inheritance', 'almost', 'reproduction', 'the', 'direct', 'the', 'life', 'use', 'a', 'Increase', 'as', 'to', 'for', 'as', 'to', 'entailing', 'Character', 'Extinction', 'improved', 'from', 'of', 'famine', 'the', 'object', 'are', 'conceiving', 'production', 'higher', 'follows', 'grandeur', 'view', 'with', 'powers', 'originally', 'the', 'a', 'or', 'and', 'this', 'gone', 'according', 'fixed', 'gravity', 'simple', 'endless', 'beautiful', 'wonderful', 'and', 'evolved']\n",
      "['wonderful', 'with', 'view', 'use', 'us', 'to', 'to', 'to', 'this', 'these', 'the', 'the', 'the', 'the', 'taken', 'so', 'singing', 'simple', 'reproduction', 'production', 'powers', 'plants', 'originally', 'or', 'of', 'object', 'manner', 'life', 'laws', 'largest', 'kinds', 'interesting', 'insects', 'improved', 'higher', 'gravity', 'grandeur', 'gone', 'from', 'from', 'forms', 'for', 'follows', 'fixed', 'famine', 'evolved', 'entailing', 'endless', 'each', 'direct', 'damp', 'crawling', 'conceiving', 'clothed', 'bushes', 'been', 'beautiful', 'as', 'as', 'are', 'and', 'and', 'and', 'and', 'almost', 'according', 'a', 'a', 'a', 'Inheritance', 'Increase', 'Growth', 'Extinction', 'Character']\n"
     ]
    }
   ],
   "source": [
    "final_quote, split_quote = file[-1], file[-1].split()\n",
    "every_third = split_quote[2::3]\n",
    "reverse_every_third = sorted(every_third, reverse = True)\n",
    "print(every_third)\n",
    "print(reverse_every_third)"
   ]
  },
  {
   "cell_type": "code",
   "execution_count": null,
   "metadata": {},
   "outputs": [],
   "source": []
  }
 ],
 "metadata": {
  "kernelspec": {
   "display_name": "Python 3",
   "language": "python",
   "name": "python3"
  },
  "language_info": {
   "codemirror_mode": {
    "name": "ipython",
    "version": 3
   },
   "file_extension": ".py",
   "mimetype": "text/x-python",
   "name": "python",
   "nbconvert_exporter": "python",
   "pygments_lexer": "ipython3",
   "version": "3.7.5"
  }
 },
 "nbformat": 4,
 "nbformat_minor": 2
}
